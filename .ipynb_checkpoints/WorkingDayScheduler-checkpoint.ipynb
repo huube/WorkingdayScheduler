{
 "cells": [
  {
   "cell_type": "code",
   "execution_count": 156,
   "metadata": {},
   "outputs": [],
   "source": [
    "import pandas as pd\n",
    "import numpy as np\n",
    "from datetime import datetime"
   ]
  },
  {
   "cell_type": "code",
   "execution_count": 157,
   "metadata": {},
   "outputs": [],
   "source": [
    "def CreateScheduler():\n",
    "    \n",
    "    df = pd.read_excel(\"workingdays.xlsx\")\n",
    "    df['Year'] = pd.DatetimeIndex(df['Date']).year\n",
    "    df['Month'] = pd.DatetimeIndex(df['Date']).month\n",
    "    df.index = df['Date']\n",
    "    df_workingdays = df.groupby(['Year','Month'])['IsWorkingDay'].cumsum().reset_index()\n",
    "    df_workingdays.index = df['Date']\n",
    "    \n",
    "    df_unique_workingdays = pd.merge(df, df_workingdays, left_index=True, right_index=True)\n",
    "    df_unique_workingdays.reset_index(inplace=True)\n",
    "    df_unique_workingdays.drop(columns=['Date_x','Date_y'],inplace=True)\n",
    "\n",
    "\n",
    "    for column in df_unique_workingdays:\n",
    "        if '_x' in column:\n",
    "            df_unique_workingdays.drop(columns=column,inplace=True)\n",
    "        \n",
    "    df_unique_workingdays.columns = df_unique_workingdays.columns.str.replace('_y','')\n",
    "    \n",
    "    df_workingdays = df_unique_workingdays.groupby(['IsWorkingDay','Year','Month'])['Date'].agg(\"min\",'Date').reset_index()\n",
    "    df_workingdays.sort_values(by='Date',inplace=True)\n",
    "    df_workingdays.reset_index(inplace=True)\n",
    "    \n",
    "    df_workingdays.to_excel('Workingdays_cleansed.xlsx',index=False)\n",
    "\n",
    "    return df_workingdays"
   ]
  },
  {
   "cell_type": "code",
   "execution_count": 178,
   "metadata": {},
   "outputs": [
    {
     "name": "stdout",
     "output_type": "stream",
     "text": [
      "Today, 2021-11-18 ,is considered a working day!\n"
     ]
    }
   ],
   "source": [
    "schedule = CreateScheduler()\n",
    "\n",
    "current_working_day = schedule[schedule['Date'] == datetime.today().date().isoformat()]\n",
    "#current_working_day = pd.DataFrame()\n",
    "if not current_working_day.empty:\n",
    "    print('Today,',datetime.today().date().isoformat(),',is considered a working day!')\n",
    "else:\n",
    "    print('No, today we do not work!')\n"
   ]
  },
  {
   "cell_type": "code",
   "execution_count": 160,
   "metadata": {},
   "outputs": [],
   "source": [
    "df = pd.DataFrame()"
   ]
  },
  {
   "cell_type": "code",
   "execution_count": null,
   "metadata": {},
   "outputs": [],
   "source": []
  },
  {
   "cell_type": "code",
   "execution_count": null,
   "metadata": {},
   "outputs": [],
   "source": []
  }
 ],
 "metadata": {
  "kernelspec": {
   "display_name": "Python 3",
   "language": "python",
   "name": "python3"
  },
  "language_info": {
   "codemirror_mode": {
    "name": "ipython",
    "version": 3
   },
   "file_extension": ".py",
   "mimetype": "text/x-python",
   "name": "python",
   "nbconvert_exporter": "python",
   "pygments_lexer": "ipython3",
   "version": "3.8.5"
  }
 },
 "nbformat": 4,
 "nbformat_minor": 4
}
